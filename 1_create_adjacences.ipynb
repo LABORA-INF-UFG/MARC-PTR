{
 "cells": [
  {
   "cell_type": "code",
   "execution_count": 51,
   "id": "6307b2a3-a10d-4eed-b965-e80f4d4b0caf",
   "metadata": {},
   "outputs": [],
   "source": [
    "import numpy as np\n",
    "import pandas as pd\n",
    "import pickle as pk"
   ]
  },
  {
   "cell_type": "code",
   "execution_count": 52,
   "id": "25ad48ac-8d28-4eb7-8251-02c41068d17b",
   "metadata": {},
   "outputs": [],
   "source": [
    "city = 'Perth'"
   ]
  },
  {
   "cell_type": "code",
   "execution_count": 53,
   "id": "5397bd5e-4fe8-4052-8d4e-e06f9649a90e",
   "metadata": {},
   "outputs": [
    {
     "data": {
      "text/plain": [
       "25"
      ]
     },
     "execution_count": 53,
     "metadata": {},
     "output_type": "execute_result"
    }
   ],
   "source": [
    "data = pd.read_csv(\"data_process/_RawData/\" + city + \"/POIs.csv\")\n",
    "quantity_of_POIS = len(data)\n",
    "quantity_of_POIS"
   ]
  },
  {
   "cell_type": "code",
   "execution_count": 55,
   "id": "16bbe400-eb49-436e-b56f-06e4f410afe4",
   "metadata": {},
   "outputs": [
    {
     "data": {
      "text/html": [
       "<div>\n",
       "<style scoped>\n",
       "    .dataframe tbody tr th:only-of-type {\n",
       "        vertical-align: middle;\n",
       "    }\n",
       "\n",
       "    .dataframe tbody tr th {\n",
       "        vertical-align: top;\n",
       "    }\n",
       "\n",
       "    .dataframe thead th {\n",
       "        text-align: right;\n",
       "    }\n",
       "</style>\n",
       "<table border=\"1\" class=\"dataframe\">\n",
       "  <thead>\n",
       "    <tr style=\"text-align: right;\">\n",
       "      <th></th>\n",
       "      <th>photoID</th>\n",
       "      <th>userID</th>\n",
       "      <th>dateTaken</th>\n",
       "      <th>poiID</th>\n",
       "      <th>poiTheme</th>\n",
       "      <th>seqID</th>\n",
       "    </tr>\n",
       "  </thead>\n",
       "  <tbody>\n",
       "    <tr>\n",
       "      <th>0</th>\n",
       "      <td>7158915820</td>\n",
       "      <td>11146442@N00</td>\n",
       "      <td>1336155672</td>\n",
       "      <td>1</td>\n",
       "      <td>Structure</td>\n",
       "      <td>1</td>\n",
       "    </tr>\n",
       "    <tr>\n",
       "      <th>1</th>\n",
       "      <td>7158914400</td>\n",
       "      <td>11146442@N00</td>\n",
       "      <td>1336156397</td>\n",
       "      <td>7</td>\n",
       "      <td>Park</td>\n",
       "      <td>1</td>\n",
       "    </tr>\n",
       "    <tr>\n",
       "      <th>2</th>\n",
       "      <td>7158907712</td>\n",
       "      <td>11146442@N00</td>\n",
       "      <td>1336157902</td>\n",
       "      <td>7</td>\n",
       "      <td>Park</td>\n",
       "      <td>1</td>\n",
       "    </tr>\n",
       "    <tr>\n",
       "      <th>3</th>\n",
       "      <td>7158905954</td>\n",
       "      <td>11146442@N00</td>\n",
       "      <td>1336158437</td>\n",
       "      <td>6</td>\n",
       "      <td>Park</td>\n",
       "      <td>1</td>\n",
       "    </tr>\n",
       "    <tr>\n",
       "      <th>4</th>\n",
       "      <td>7158899778</td>\n",
       "      <td>11146442@N00</td>\n",
       "      <td>1336170989</td>\n",
       "      <td>23</td>\n",
       "      <td>Entertainment</td>\n",
       "      <td>1</td>\n",
       "    </tr>\n",
       "  </tbody>\n",
       "</table>\n",
       "</div>"
      ],
      "text/plain": [
       "      photoID        userID   dateTaken  poiID       poiTheme  seqID\n",
       "0  7158915820  11146442@N00  1336155672      1      Structure      1\n",
       "1  7158914400  11146442@N00  1336156397      7           Park      1\n",
       "2  7158907712  11146442@N00  1336157902      7           Park      1\n",
       "3  7158905954  11146442@N00  1336158437      6           Park      1\n",
       "4  7158899778  11146442@N00  1336170989     23  Entertainment      1"
      ]
     },
     "execution_count": 55,
     "metadata": {},
     "output_type": "execute_result"
    }
   ],
   "source": [
    "data = pd.read_csv(\"data_process/_RawData/\" + city + \"/touristsVisits.csv\")\n",
    "#data = data.head(10)\n",
    "data.head()\n"
   ]
  },
  {
   "cell_type": "code",
   "execution_count": 56,
   "id": "3f2a10a4-dafd-4cda-9654-6f9e1e5529e5",
   "metadata": {},
   "outputs": [
    {
     "data": {
      "text/plain": [
       "3643"
      ]
     },
     "execution_count": 56,
     "metadata": {},
     "output_type": "execute_result"
    }
   ],
   "source": [
    "quant = len(data)\n",
    "quant"
   ]
  },
  {
   "cell_type": "code",
   "execution_count": 58,
   "id": "54192bd0-9a1d-4d46-a359-97f269ad3ad9",
   "metadata": {},
   "outputs": [],
   "source": [
    "global_adj = np.matrix(np.zeros(shape=(quantity_of_POIS,quantity_of_POIS)))\n",
    "local_adj = dict.fromkeys(list(data['userID']),np.matrix(np.zeros(shape=(quantity_of_POIS,quantity_of_POIS))))\n",
    "#local_adj"
   ]
  },
  {
   "cell_type": "code",
   "execution_count": 59,
   "id": "8eef9dba-7bc0-4cd0-b2ed-abc8ab01f531",
   "metadata": {},
   "outputs": [
    {
     "data": {
      "text/html": [
       "<div>\n",
       "<style scoped>\n",
       "    .dataframe tbody tr th:only-of-type {\n",
       "        vertical-align: middle;\n",
       "    }\n",
       "\n",
       "    .dataframe tbody tr th {\n",
       "        vertical-align: top;\n",
       "    }\n",
       "\n",
       "    .dataframe thead th {\n",
       "        text-align: right;\n",
       "    }\n",
       "</style>\n",
       "<table border=\"1\" class=\"dataframe\">\n",
       "  <thead>\n",
       "    <tr style=\"text-align: right;\">\n",
       "      <th></th>\n",
       "      <th>photoID</th>\n",
       "      <th>userID</th>\n",
       "      <th>dateTaken</th>\n",
       "      <th>poiID</th>\n",
       "      <th>poiTheme</th>\n",
       "      <th>seqID</th>\n",
       "    </tr>\n",
       "  </thead>\n",
       "  <tbody>\n",
       "    <tr>\n",
       "      <th>0</th>\n",
       "      <td>7158915820</td>\n",
       "      <td>11146442@N00</td>\n",
       "      <td>1336155672</td>\n",
       "      <td>1</td>\n",
       "      <td>Structure</td>\n",
       "      <td>1</td>\n",
       "    </tr>\n",
       "    <tr>\n",
       "      <th>1</th>\n",
       "      <td>7158914400</td>\n",
       "      <td>11146442@N00</td>\n",
       "      <td>1336156397</td>\n",
       "      <td>7</td>\n",
       "      <td>Park</td>\n",
       "      <td>1</td>\n",
       "    </tr>\n",
       "    <tr>\n",
       "      <th>2</th>\n",
       "      <td>7158907712</td>\n",
       "      <td>11146442@N00</td>\n",
       "      <td>1336157902</td>\n",
       "      <td>7</td>\n",
       "      <td>Park</td>\n",
       "      <td>1</td>\n",
       "    </tr>\n",
       "    <tr>\n",
       "      <th>3</th>\n",
       "      <td>7158905954</td>\n",
       "      <td>11146442@N00</td>\n",
       "      <td>1336158437</td>\n",
       "      <td>6</td>\n",
       "      <td>Park</td>\n",
       "      <td>1</td>\n",
       "    </tr>\n",
       "    <tr>\n",
       "      <th>4</th>\n",
       "      <td>7158899778</td>\n",
       "      <td>11146442@N00</td>\n",
       "      <td>1336170989</td>\n",
       "      <td>23</td>\n",
       "      <td>Entertainment</td>\n",
       "      <td>1</td>\n",
       "    </tr>\n",
       "    <tr>\n",
       "      <th>...</th>\n",
       "      <td>...</td>\n",
       "      <td>...</td>\n",
       "      <td>...</td>\n",
       "      <td>...</td>\n",
       "      <td>...</td>\n",
       "      <td>...</td>\n",
       "    </tr>\n",
       "    <tr>\n",
       "      <th>3638</th>\n",
       "      <td>11476617425</td>\n",
       "      <td>99395734@N08</td>\n",
       "      <td>1383866156</td>\n",
       "      <td>19</td>\n",
       "      <td>Transport</td>\n",
       "      <td>712</td>\n",
       "    </tr>\n",
       "    <tr>\n",
       "      <th>3639</th>\n",
       "      <td>10960202885</td>\n",
       "      <td>99395734@N08</td>\n",
       "      <td>1384803458</td>\n",
       "      <td>19</td>\n",
       "      <td>Transport</td>\n",
       "      <td>713</td>\n",
       "    </tr>\n",
       "    <tr>\n",
       "      <th>3640</th>\n",
       "      <td>11170645303</td>\n",
       "      <td>99395734@N08</td>\n",
       "      <td>1385810613</td>\n",
       "      <td>23</td>\n",
       "      <td>Entertainment</td>\n",
       "      <td>714</td>\n",
       "    </tr>\n",
       "    <tr>\n",
       "      <th>3641</th>\n",
       "      <td>12078439553</td>\n",
       "      <td>99395734@N08</td>\n",
       "      <td>1385960440</td>\n",
       "      <td>19</td>\n",
       "      <td>Transport</td>\n",
       "      <td>715</td>\n",
       "    </tr>\n",
       "    <tr>\n",
       "      <th>3642</th>\n",
       "      <td>367859571</td>\n",
       "      <td>99922010@N00</td>\n",
       "      <td>1169014708</td>\n",
       "      <td>6</td>\n",
       "      <td>Park</td>\n",
       "      <td>716</td>\n",
       "    </tr>\n",
       "  </tbody>\n",
       "</table>\n",
       "<p>3643 rows × 6 columns</p>\n",
       "</div>"
      ],
      "text/plain": [
       "          photoID        userID   dateTaken  poiID       poiTheme  seqID\n",
       "0      7158915820  11146442@N00  1336155672      1      Structure      1\n",
       "1      7158914400  11146442@N00  1336156397      7           Park      1\n",
       "2      7158907712  11146442@N00  1336157902      7           Park      1\n",
       "3      7158905954  11146442@N00  1336158437      6           Park      1\n",
       "4      7158899778  11146442@N00  1336170989     23  Entertainment      1\n",
       "...           ...           ...         ...    ...            ...    ...\n",
       "3638  11476617425  99395734@N08  1383866156     19      Transport    712\n",
       "3639  10960202885  99395734@N08  1384803458     19      Transport    713\n",
       "3640  11170645303  99395734@N08  1385810613     23  Entertainment    714\n",
       "3641  12078439553  99395734@N08  1385960440     19      Transport    715\n",
       "3642    367859571  99922010@N00  1169014708      6           Park    716\n",
       "\n",
       "[3643 rows x 6 columns]"
      ]
     },
     "execution_count": 59,
     "metadata": {},
     "output_type": "execute_result"
    }
   ],
   "source": [
    "data"
   ]
  },
  {
   "cell_type": "code",
   "execution_count": 60,
   "id": "a8826499-3980-487e-a51a-b693b0200561",
   "metadata": {},
   "outputs": [],
   "source": [
    "sequences_dict = {}\n",
    "biggest_seq = data['seqID'].max()\n",
    "\n",
    "for seq in range(1, biggest_seq + 1):\n",
    "    sequence = list(data[data['seqID'] == seq]['poiID'].unique())\n",
    "    id_user = data[data['seqID'] == seq]['userID'].unique()[0]\n",
    "    \n",
    "    if id_user in sequences_dict and len(sequence) > len(sequences_dict[id_user]):\n",
    "        sequences_dict[id_user] = sequence\n",
    "        \n",
    "    elif id_user not in sequences_dict:\n",
    "        sequences_dict[id_user] = sequence\n",
    "        \n",
    "    "
   ]
  },
  {
   "cell_type": "code",
   "execution_count": 66,
   "id": "360f17d8-57b1-4541-9406-55386024adc3",
   "metadata": {},
   "outputs": [],
   "source": [
    "#sequences_dict\n",
    "with open(\"data_process/\" + city +  \"/sequence\",\"wb\") as file:\n",
    "    pk.dump(sequences_dict, file)"
   ]
  },
  {
   "cell_type": "code",
   "execution_count": 62,
   "id": "28245876-a07c-4ad5-b0ce-00e12333c090",
   "metadata": {},
   "outputs": [],
   "source": [
    "#data = data.groupby('seqID')\n",
    "index_i = 0\n",
    "index_j = 1\n",
    "\n",
    "while(index_j != quant):\n",
    "    if(int(data.iloc[[index_i]]['seqID']) == int(data.iloc[[index_j]]['seqID']) and \n",
    "       int(data.iloc[[index_i]]['poiID']) != int(data.iloc[[index_j]]['poiID'])):\n",
    "\n",
    "        user_id = str(data.iloc[[index_i]]['userID'].values[0])\n",
    "        i = int(data.iloc[[index_i]]['poiID'])-1\n",
    "        j = int(data.iloc[[index_j]]['poiID'])-1\n",
    "\n",
    "        local_adj[user_id][i,j] = local_adj[user_id][i,j] + 1\n",
    "        local_adj[user_id][j,i] = local_adj[user_id][j,i] + 1\n",
    "        \n",
    "        global_adj[i,j] = global_adj[i,j] + 1\n",
    "        global_adj[j,i] = global_adj[j,i] + 1        \n",
    "\n",
    "    \n",
    "    index_i = index_i + 1\n",
    "    index_j = index_j + 1\n",
    "\n"
   ]
  },
  {
   "cell_type": "code",
   "execution_count": 7,
   "id": "6f1952ff-8263-4ee2-8946-a72f49754880",
   "metadata": {},
   "outputs": [],
   "source": [
    "#print(global_adj)"
   ]
  },
  {
   "cell_type": "code",
   "execution_count": 63,
   "id": "6eacabee-45f2-4d05-8cd0-4672681e7d6f",
   "metadata": {},
   "outputs": [],
   "source": [
    "with open(\"data_process/local\",\"wb\") as file:\n",
    "    pk.dump(local_adj, file)\n",
    "with open(\"data_process/global\",\"wb\") as file:\n",
    "    pk.dump(global_adj, file)"
   ]
  },
  {
   "cell_type": "code",
   "execution_count": 64,
   "id": "5e4b80e9-7af6-4fec-ae81-17c5de8e815f",
   "metadata": {},
   "outputs": [],
   "source": [
    "file = open('data_process/global', 'rb')\n",
    "d = pk.load(file)"
   ]
  },
  {
   "cell_type": "code",
   "execution_count": 65,
   "id": "d5fd6f53-a96c-47cb-a244-0afb154277f6",
   "metadata": {},
   "outputs": [
    {
     "data": {
      "text/plain": [
       "matrix([[ 0.,  0.,  0.,  1.,  0.,  7., 17.,  0.,  0.,  0.,  0.,  1.,  2.,\n",
       "          0.,  0.,  0., 17.,  4.,  2.,  7.,  0.,  5.,  0.,  0.,  0.],\n",
       "        [ 0.,  0.,  0.,  0.,  0.,  1.,  1.,  0.,  0.,  0.,  0.,  0.,  0.,\n",
       "          0.,  0.,  0.,  0.,  0.,  1.,  1.,  0.,  0.,  0.,  0.,  0.],\n",
       "        [ 0.,  0.,  0.,  1.,  0.,  0.,  1.,  0.,  8.,  0.,  0.,  2., 17.,\n",
       "          0.,  0.,  0.,  3.,  1.,  0., 16.,  0.,  0.,  0.,  0.,  0.],\n",
       "        [ 1.,  0.,  1.,  0.,  0.,  0.,  0.,  0.,  2.,  0.,  0.,  0.,  0.,\n",
       "          0.,  0.,  0.,  0.,  0.,  0.,  1.,  0.,  0.,  2.,  0.,  0.],\n",
       "        [ 0.,  0.,  0.,  0.,  0.,  0.,  0.,  0.,  0.,  0.,  0.,  0.,  0.,\n",
       "          0.,  0.,  0.,  0.,  0.,  0.,  0.,  0.,  0.,  0.,  0.,  0.],\n",
       "        [ 7.,  1.,  0.,  0.,  0.,  0., 17.,  1.,  0.,  0.,  0.,  0.,  1.,\n",
       "          0.,  0.,  0.,  7.,  6.,  1.,  1.,  0.,  4.,  1.,  0.,  0.],\n",
       "        [17.,  1.,  1.,  0.,  0., 17.,  0.,  1.,  0.,  0.,  0.,  0.,  1.,\n",
       "          0.,  0.,  0.,  2.,  4.,  4.,  1.,  1., 13.,  1.,  0.,  0.],\n",
       "        [ 0.,  0.,  0.,  0.,  0.,  1.,  1.,  0.,  0.,  0.,  0.,  0.,  0.,\n",
       "          0.,  0.,  0.,  1.,  0.,  0.,  0.,  0.,  0.,  0.,  0.,  0.],\n",
       "        [ 0.,  0.,  8.,  2.,  0.,  0.,  0.,  0.,  0.,  0.,  0.,  1.,  1.,\n",
       "          0.,  0.,  0.,  1.,  0.,  0.,  3.,  0.,  0.,  0.,  0.,  0.],\n",
       "        [ 0.,  0.,  0.,  0.,  0.,  0.,  0.,  0.,  0.,  0.,  0.,  0.,  0.,\n",
       "          0.,  0.,  0.,  0.,  0.,  0.,  1.,  0.,  0.,  0.,  0.,  0.],\n",
       "        [ 0.,  0.,  0.,  0.,  0.,  0.,  0.,  0.,  0.,  0.,  0.,  0.,  0.,\n",
       "          0.,  0.,  0.,  0.,  0.,  0.,  0.,  0.,  0.,  0.,  0.,  0.],\n",
       "        [ 1.,  0.,  2.,  0.,  0.,  0.,  0.,  0.,  1.,  0.,  0.,  0.,  8.,\n",
       "          0.,  0.,  1., 14.,  1.,  2.,  2.,  0.,  0.,  0.,  0.,  0.],\n",
       "        [ 2.,  0., 17.,  0.,  0.,  1.,  1.,  0.,  1.,  0.,  0.,  8.,  0.,\n",
       "          0.,  0.,  0.,  4.,  0.,  0.,  1.,  0.,  0.,  0.,  0.,  0.],\n",
       "        [ 0.,  0.,  0.,  0.,  0.,  0.,  0.,  0.,  0.,  0.,  0.,  0.,  0.,\n",
       "          0.,  1.,  0.,  0.,  0.,  0.,  0.,  0.,  0.,  0.,  0.,  0.],\n",
       "        [ 0.,  0.,  0.,  0.,  0.,  0.,  0.,  0.,  0.,  0.,  0.,  0.,  0.,\n",
       "          1.,  0.,  0.,  0.,  0.,  0.,  0.,  1.,  1.,  0.,  0.,  0.],\n",
       "        [ 0.,  0.,  0.,  0.,  0.,  0.,  0.,  0.,  0.,  0.,  0.,  1.,  0.,\n",
       "          0.,  0.,  0.,  0.,  0.,  0.,  0.,  0.,  0.,  0.,  0.,  0.],\n",
       "        [17.,  0.,  3.,  0.,  0.,  7.,  2.,  1.,  1.,  0.,  0., 14.,  4.,\n",
       "          0.,  0.,  0.,  0.,  1.,  0., 12.,  0.,  0.,  1.,  0.,  0.],\n",
       "        [ 4.,  0.,  1.,  0.,  0.,  6.,  4.,  0.,  0.,  0.,  0.,  1.,  0.,\n",
       "          0.,  0.,  0.,  1.,  0.,  2.,  1.,  0.,  0.,  0.,  0.,  0.],\n",
       "        [ 2.,  1.,  0.,  0.,  0.,  1.,  4.,  0.,  0.,  0.,  0.,  2.,  0.,\n",
       "          0.,  0.,  0.,  0.,  2.,  0.,  1.,  0.,  2.,  0.,  0.,  0.],\n",
       "        [ 7.,  1., 16.,  1.,  0.,  1.,  1.,  0.,  3.,  1.,  0.,  2.,  1.,\n",
       "          0.,  0.,  0., 12.,  1.,  1.,  0.,  0.,  0.,  8.,  0.,  0.],\n",
       "        [ 0.,  0.,  0.,  0.,  0.,  0.,  1.,  0.,  0.,  0.,  0.,  0.,  0.,\n",
       "          0.,  1.,  0.,  0.,  0.,  0.,  0.,  0.,  0.,  0.,  0.,  0.],\n",
       "        [ 5.,  0.,  0.,  0.,  0.,  4., 13.,  0.,  0.,  0.,  0.,  0.,  0.,\n",
       "          0.,  1.,  0.,  0.,  0.,  2.,  0.,  0.,  0.,  0.,  0.,  0.],\n",
       "        [ 0.,  0.,  0.,  2.,  0.,  1.,  1.,  0.,  0.,  0.,  0.,  0.,  0.,\n",
       "          0.,  0.,  0.,  1.,  0.,  0.,  8.,  0.,  0.,  0.,  0.,  0.],\n",
       "        [ 0.,  0.,  0.,  0.,  0.,  0.,  0.,  0.,  0.,  0.,  0.,  0.,  0.,\n",
       "          0.,  0.,  0.,  0.,  0.,  0.,  0.,  0.,  0.,  0.,  0.,  0.],\n",
       "        [ 0.,  0.,  0.,  0.,  0.,  0.,  0.,  0.,  0.,  0.,  0.,  0.,  0.,\n",
       "          0.,  0.,  0.,  0.,  0.,  0.,  0.,  0.,  0.,  0.,  0.,  0.]])"
      ]
     },
     "execution_count": 65,
     "metadata": {},
     "output_type": "execute_result"
    }
   ],
   "source": [
    "d"
   ]
  },
  {
   "cell_type": "code",
   "execution_count": null,
   "id": "d9bb4b21-15f8-4849-a15b-e1b997305d0a",
   "metadata": {},
   "outputs": [],
   "source": []
  }
 ],
 "metadata": {
  "kernelspec": {
   "display_name": "Python 3 (ipykernel)",
   "language": "python",
   "name": "python3"
  },
  "language_info": {
   "codemirror_mode": {
    "name": "ipython",
    "version": 3
   },
   "file_extension": ".py",
   "mimetype": "text/x-python",
   "name": "python",
   "nbconvert_exporter": "python",
   "pygments_lexer": "ipython3",
   "version": "3.8.10"
  }
 },
 "nbformat": 4,
 "nbformat_minor": 5
}
