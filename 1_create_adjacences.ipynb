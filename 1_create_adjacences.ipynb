{
 "cells": [
  {
   "cell_type": "code",
   "execution_count": null,
   "id": "6307b2a3-a10d-4eed-b965-e80f4d4b0caf",
   "metadata": {},
   "outputs": [],
   "source": [
    "import numpy as np\n",
    "import pandas as pd\n",
    "import pickle as pk\n",
    "import time"
   ]
  },
  {
   "cell_type": "code",
   "execution_count": null,
   "id": "99d4bd51-f5cc-4022-a69f-69ec5d322062",
   "metadata": {},
   "outputs": [],
   "source": [
    "start_time = time.time()"
   ]
  },
  {
   "cell_type": "code",
   "execution_count": null,
   "id": "25ad48ac-8d28-4eb7-8251-02c41068d17b",
   "metadata": {},
   "outputs": [],
   "source": [
    "city = 'Perth'"
   ]
  },
  {
   "cell_type": "code",
   "execution_count": null,
   "id": "5397bd5e-4fe8-4052-8d4e-e06f9649a90e",
   "metadata": {},
   "outputs": [],
   "source": [
    "data = pd.read_csv(\"data_process/_RawData/\" + city + \"/POIs.csv\")\n",
    "quantity_of_POIS = len(data)\n",
    "quantity_of_POIS"
   ]
  },
  {
   "cell_type": "code",
   "execution_count": null,
   "id": "23164d15-f556-4fea-a26f-204a5e28ce2c",
   "metadata": {
    "scrolled": true,
    "tags": []
   },
   "outputs": [],
   "source": [
    "map_of_POIs = {}\n",
    "index = 0\n",
    "for poi in list(data['poiID']):\n",
    "    map_of_POIs[poi] = index\n",
    "    index = index + 1\n",
    "\n",
    "map_of_POIs"
   ]
  },
  {
   "cell_type": "code",
   "execution_count": null,
   "id": "16bbe400-eb49-436e-b56f-06e4f410afe4",
   "metadata": {},
   "outputs": [],
   "source": [
    "data = pd.read_csv(\"data_process/_RawData/\" + city + \"/touristsVisits.csv\")\n",
    "#data = data.head(10)\n",
    "data.head()\n"
   ]
  },
  {
   "cell_type": "code",
   "execution_count": null,
   "id": "3f2a10a4-dafd-4cda-9654-6f9e1e5529e5",
   "metadata": {},
   "outputs": [],
   "source": [
    "quant = len(data)\n",
    "quant"
   ]
  },
  {
   "cell_type": "code",
   "execution_count": null,
   "id": "a3d6e0c1-6986-4c01-be99-3e37ecb3be39",
   "metadata": {},
   "outputs": [],
   "source": [
    "len(data['userID'].unique())"
   ]
  },
  {
   "cell_type": "code",
   "execution_count": null,
   "id": "54192bd0-9a1d-4d46-a359-97f269ad3ad9",
   "metadata": {},
   "outputs": [],
   "source": [
    "global_adj = np.matrix(np.zeros(shape=(quantity_of_POIS,quantity_of_POIS)))\n",
    "\n",
    "local_adj = dict.fromkeys(list(data['userID']), None)\n",
    "for item in list(data['userID']):\n",
    "    local_adj[item] = np.matrix(np.zeros(shape=(quantity_of_POIS,quantity_of_POIS)))\n",
    "#local_adj = dict.fromkeys(list(data['userID']),np.matrix(np.zeros(shape=(quantity_of_POIS,quantity_of_POIS))))\n",
    "#local_adj"
   ]
  },
  {
   "cell_type": "code",
   "execution_count": null,
   "id": "550ca5cb-71ae-499c-b580-1b73739ada2b",
   "metadata": {},
   "outputs": [],
   "source": [
    "#local_adj"
   ]
  },
  {
   "cell_type": "code",
   "execution_count": null,
   "id": "8eef9dba-7bc0-4cd0-b2ed-abc8ab01f531",
   "metadata": {
    "scrolled": true,
    "tags": []
   },
   "outputs": [],
   "source": [
    "data"
   ]
  },
  {
   "cell_type": "code",
   "execution_count": null,
   "id": "a619d8b8-18a2-434b-bb87-9627261955c0",
   "metadata": {},
   "outputs": [],
   "source": [
    "unique_seqID = list(data['seqID'].unique())"
   ]
  },
  {
   "cell_type": "code",
   "execution_count": null,
   "id": "a8826499-3980-487e-a51a-b693b0200561",
   "metadata": {},
   "outputs": [],
   "source": [
    "sequences_dict = {}\n",
    "#biggest_seq = data['seqID'].max()\n",
    "\n",
    "for seq in unique_seqID:\n",
    "    sequence = list(data[data['seqID'] == seq]['poiID'].unique())\n",
    "    id_user = data[data['seqID'] == seq]['userID'].unique()[0]\n",
    "    \n",
    "    if id_user in sequences_dict and len(sequence) > len(sequences_dict[id_user]):\n",
    "        sequences_dict[id_user] = sequence\n",
    "        \n",
    "    elif id_user not in sequences_dict:\n",
    "        sequences_dict[id_user] = sequence\n",
    "        \n",
    "    "
   ]
  },
  {
   "cell_type": "code",
   "execution_count": null,
   "id": "4e6e4496-9aa9-4f14-a510-6ec2ffc4547a",
   "metadata": {
    "scrolled": true,
    "tags": []
   },
   "outputs": [],
   "source": [
    "sequences_dict"
   ]
  },
  {
   "cell_type": "code",
   "execution_count": null,
   "id": "360f17d8-57b1-4541-9406-55386024adc3",
   "metadata": {},
   "outputs": [],
   "source": [
    "#sequences_dict\n",
    "with open(\"data_process/\" + city +  \"/sequence\",\"wb\") as file:\n",
    "    pk.dump(sequences_dict, file)"
   ]
  },
  {
   "cell_type": "code",
   "execution_count": null,
   "id": "28245876-a07c-4ad5-b0ce-00e12333c090",
   "metadata": {
    "scrolled": true,
    "tags": []
   },
   "outputs": [],
   "source": [
    "#data = data.groupby('seqID')\n",
    "for item in sequences_dict:\n",
    "    if(len(sequences_dict[item]) > 1):\n",
    "        for poi in range(0, len(sequences_dict[item])-1):\n",
    "            user_id = item\n",
    "            \n",
    "            i = map_of_POIs[sequences_dict[item][poi]]\n",
    "            j = map_of_POIs[sequences_dict[item][poi + 1]]\n",
    "            \n",
    "            local_adj[user_id][i,j] = local_adj[user_id][i,j] + 1\n",
    "            local_adj[user_id][j,i] = local_adj[user_id][j,i] + 1\n",
    "\n",
    "            global_adj[i,j] = global_adj[i,j] + 1\n",
    "            global_adj[j,i] = global_adj[j,i] + 1 "
   ]
  },
  {
   "cell_type": "code",
   "execution_count": null,
   "id": "6f1952ff-8263-4ee2-8946-a72f49754880",
   "metadata": {},
   "outputs": [],
   "source": [
    "#global_adj"
   ]
  },
  {
   "cell_type": "code",
   "execution_count": null,
   "id": "6eacabee-45f2-4d05-8cd0-4672681e7d6f",
   "metadata": {},
   "outputs": [],
   "source": [
    "with open(\"data_process/\" + city + \"/local\",\"wb\") as file:\n",
    "    pk.dump(local_adj, file)\n",
    "with open(\"data_process/\" + city + \"/global\",\"wb\") as file:\n",
    "    pk.dump(global_adj, file)"
   ]
  },
  {
   "cell_type": "code",
   "execution_count": null,
   "id": "6f30d5ad-a27b-4fd7-8dd1-6113146f32ad",
   "metadata": {},
   "outputs": [],
   "source": [
    "final_time = time.time()"
   ]
  },
  {
   "cell_type": "code",
   "execution_count": null,
   "id": "5e4b80e9-7af6-4fec-ae81-17c5de8e815f",
   "metadata": {},
   "outputs": [],
   "source": [
    "file = open('data_process/' + city + '/global', 'rb')\n",
    "d = pk.load(file)"
   ]
  },
  {
   "cell_type": "code",
   "execution_count": null,
   "id": "d5fd6f53-a96c-47cb-a244-0afb154277f6",
   "metadata": {
    "scrolled": true,
    "tags": []
   },
   "outputs": [],
   "source": [
    "d"
   ]
  },
  {
   "cell_type": "code",
   "execution_count": null,
   "id": "d9bb4b21-15f8-4849-a15b-e1b997305d0a",
   "metadata": {},
   "outputs": [],
   "source": [
    "file = open('data_process/' + city + '/local', 'rb')\n",
    "d = pk.load(file)"
   ]
  },
  {
   "cell_type": "code",
   "execution_count": null,
   "id": "b40ddc57-b737-4dd8-866f-a0d9404dbcf9",
   "metadata": {
    "scrolled": true,
    "tags": []
   },
   "outputs": [],
   "source": [
    "d"
   ]
  },
  {
   "cell_type": "code",
   "execution_count": null,
   "id": "ae43acb8-2322-413e-8b26-6732681eba8b",
   "metadata": {},
   "outputs": [],
   "source": [
    "final_time - start_time"
   ]
  },
  {
   "cell_type": "code",
   "execution_count": null,
   "id": "4cfb5019-e0bd-406b-b1a2-4373981ae6ff",
   "metadata": {},
   "outputs": [],
   "source": [
    "f = open(\"results/\" + city + \"/time\", \"w\")\n",
    "f.writelines(\"process_data=\" + str(final_time - start_time) + \"\\n\")\n",
    "f.close()"
   ]
  },
  {
   "cell_type": "code",
   "execution_count": null,
   "id": "3b4f2e6a-cc76-4f89-9de9-34c045b02a10",
   "metadata": {},
   "outputs": [],
   "source": []
  }
 ],
 "metadata": {
  "kernelspec": {
   "display_name": "Python 3 (ipykernel)",
   "language": "python",
   "name": "python3"
  },
  "language_info": {
   "codemirror_mode": {
    "name": "ipython",
    "version": 3
   },
   "file_extension": ".py",
   "mimetype": "text/x-python",
   "name": "python",
   "nbconvert_exporter": "python",
   "pygments_lexer": "ipython3",
   "version": "3.8.10"
  }
 },
 "nbformat": 4,
 "nbformat_minor": 5
}
