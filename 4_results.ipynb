{
 "cells": [
  {
   "cell_type": "code",
   "execution_count": null,
   "id": "221eff0f-7ac4-4a39-b4b5-ea3d240430c4",
   "metadata": {},
   "outputs": [],
   "source": [
    "import numpy as np\n",
    "from matplotlib import pyplot as plt\n",
    "import pickle as pk\n",
    "import matplotlib as mpl\n",
    "import json\n",
    "import pandas as pd\n",
    "import seaborn as sns"
   ]
  },
  {
   "cell_type": "code",
   "execution_count": null,
   "id": "f1ca0ccb-d010-47b7-96cc-153e7f48928f",
   "metadata": {},
   "outputs": [],
   "source": [
    "#city = 'Athens'\n",
    "#city = 'Barcelona'\n",
    "#city = 'Budapest'\n",
    "#city = 'Edinburgh'\n",
    "#city = 'Glasgow'\n",
    "#city = 'London'\n",
    "#city = 'Madrid'\n",
    "#city = 'Melbourne'\n",
    "#city = 'NewDelhi'\n",
    "#city = 'Osaka'\n",
    "city = 'Perth'\n",
    "#city = 'Toronto'\n",
    "#city = 'Vienna'"
   ]
  },
  {
   "cell_type": "markdown",
   "id": "17e3fc87-785b-498e-b87b-68c3439c28d4",
   "metadata": {},
   "source": [
    "## Convergence"
   ]
  },
  {
   "cell_type": "code",
   "execution_count": null,
   "id": "e40db763-e8e4-4e38-90a1-6dcd343aa34e",
   "metadata": {},
   "outputs": [],
   "source": [
    "file = open('results/' + city + '/reward', 'rb')\n",
    "reward = pk.load(file)"
   ]
  },
  {
   "cell_type": "code",
   "execution_count": null,
   "id": "f6f8236f-35ed-4881-a49a-8bbd369f7b77",
   "metadata": {
    "scrolled": true,
    "tags": []
   },
   "outputs": [],
   "source": [
    "len(reward)"
   ]
  },
  {
   "cell_type": "code",
   "execution_count": null,
   "id": "d29965cb-0028-4e9c-a618-d04b5875f1f3",
   "metadata": {},
   "outputs": [],
   "source": [
    "def plot_convergence(reward, city):\n",
    "    mpl.rcParams['figure.dpi']= 300\n",
    "    plt.rcParams[\"figure.figsize\"] = [5, 3]\n",
    "    fig, ax = plt.subplots()\n",
    "    xpoints = np.array([i for i in range(1, len(reward)+1)])\n",
    "    ypoints = np.array(reward)\n",
    "\n",
    "    plt.title('Convergence - ' + city, fontsize=16)\n",
    "    plt.xlabel(\"Training episode\", fontsize=18)\n",
    "    plt.ylabel(\"Average reward\", fontsize=18)\n",
    "    \n",
    "    plt.grid(linestyle = '-.', axis = 'y')\n",
    "    \n",
    "    plt.ylim(0,52)\n",
    "    plt.xlim(0, 104)\n",
    "    \n",
    "    plt.yticks([0, 10, 20, 30, 40, 50], fontsize=16)\n",
    "    plt.xticks([0, 20, 40, 60, 80, 100], fontsize=16)\n",
    "    plt.plot(xpoints, ypoints)\n",
    "    plt.savefig(\"results/\" + city + \"/plots/convergence.pdf\", bbox_inches='tight')\n",
    "    plt.savefig(\"results/\" + city + \"/plots/convergence.png\", bbox_inches='tight')\n",
    "    plt.show()"
   ]
  },
  {
   "cell_type": "code",
   "execution_count": null,
   "id": "73627fb2-2a46-4fc9-8b3f-9fb6146486ab",
   "metadata": {},
   "outputs": [],
   "source": [
    "plot_convergence(reward, city)"
   ]
  },
  {
   "cell_type": "markdown",
   "id": "562f1515-da68-4f15-894d-85353ad45321",
   "metadata": {},
   "source": [
    "## Recall and Precision"
   ]
  },
  {
   "cell_type": "code",
   "execution_count": null,
   "id": "97b03141-904d-4420-8459-b78901dd86e8",
   "metadata": {},
   "outputs": [],
   "source": [
    "f = open('results/' + city + '/75_result.json')\n",
    "data = json.load(f)"
   ]
  },
  {
   "cell_type": "code",
   "execution_count": null,
   "id": "e5e2d433-84e0-46c4-b482-1a46a64559fb",
   "metadata": {},
   "outputs": [],
   "source": [
    "number_of_users = len(data.keys())"
   ]
  },
  {
   "cell_type": "code",
   "execution_count": null,
   "id": "34f0b4c4-fda1-46bc-a999-da032705414c",
   "metadata": {},
   "outputs": [],
   "source": [
    "def intersection(list_a, list_b):\n",
    "    return [ e for e in list_a if e in list_b ]"
   ]
  },
  {
   "cell_type": "code",
   "execution_count": null,
   "id": "176822e0-f96d-4843-a202-fe4d10796db0",
   "metadata": {},
   "outputs": [],
   "source": [
    "Total_R = []\n",
    "Total_P = []\n",
    "Mean_R = 0\n",
    "Mean_P = 0\n",
    "instances = 0\n",
    "for item in data.keys():\n",
    "    if(len(data[item]['original']) >= 2):\n",
    "        recall = len(intersection(data[item]['original'], data[item]['recommendation']))/len(data[item]['original'])\n",
    "        precis = len(intersection(data[item]['original'], data[item]['recommendation']))/len(data[item]['recommendation'])\n",
    "        Mean_P = Mean_P + precis\n",
    "        Mean_R = Mean_R + recall\n",
    "        Total_R.append(recall)\n",
    "        Total_P.append(precis)\n",
    "        instances = instances + 1\n",
    "    \n",
    "Mean_P = Mean_P / instances\n",
    "Mean_R = Mean_R / instances"
   ]
  },
  {
   "cell_type": "code",
   "execution_count": null,
   "id": "9036e51c-47e7-4a55-82c1-6d02c71b3bc5",
   "metadata": {},
   "outputs": [],
   "source": [
    "def plot_cdf_recall_precision(Total_R, Total_P, Mean_R, Mean_P, city):\n",
    "    #sns.set_theme(style=\"darkgrid\")\n",
    "    mpl.rcParams['figure.dpi']= 300\n",
    "\n",
    "    plt.rcParams[\"figure.figsize\"] = [5, 3.5]\n",
    "    plt.rcParams[\"figure.autolayout\"] = True\n",
    "\n",
    "    data1 = Total_R\n",
    "    data2 = Total_P\n",
    "    \n",
    "    count1, bins_count1 = np.histogram(data1, bins=100)\n",
    "    pdf1 = count1 / sum(count1)\n",
    "    cdf1 = np.cumsum(pdf1)\n",
    "    plt.plot(bins_count1[1:], cdf1, label=\"CDF Recall\", color='#cc0066')\n",
    "    plt.plot(0.5, Mean_R, 'o', label=\"Recall Mean\", color='#009933')\n",
    "    \n",
    "    count2, bins_count2 = np.histogram(data2, bins=100)\n",
    "    pdf2 = count2 / sum(count2)\n",
    "    cdf2 = np.cumsum(pdf2)\n",
    "    plt.plot(bins_count2[1:], cdf1, label=\"CDF Precision\", color='#111111')\n",
    "    plt.plot(0.5, Mean_P, 's', label=\"Precision Mean\", color='#009933')\n",
    "    \n",
    "    plt.xlabel(\"Metrics\", fontsize=18)\n",
    "    plt.ylabel(\"CDF\", fontsize=18)\n",
    "    \n",
    "    plt.title(city, fontsize=16)\n",
    "    \n",
    "    plt.yticks([0, 0.2, 0.4, 0.6, 0.8, 1], fontsize=16)\n",
    "    plt.xticks([0, 0.2, 0.4, 0.6, 0.8, 1], fontsize=16)\n",
    "    \n",
    "    plt.grid(linestyle = '--')\n",
    "    plt.legend(fontsize=12)\n",
    "    plt.savefig(\"results/\" + city + \"/plots/recall_precision.pdf\", bbox_inches='tight')\n",
    "    plt.savefig(\"results/\" + city + \"/plots/recall_precision.png\", bbox_inches='tight')\n",
    "    plt.show()"
   ]
  },
  {
   "cell_type": "code",
   "execution_count": null,
   "id": "90543a21-e83e-4db9-8e3a-45e4af7ad9bb",
   "metadata": {},
   "outputs": [],
   "source": [
    "plot_cdf_recall_precision(Total_R, Total_P, Mean_R, Mean_P, city)"
   ]
  },
  {
   "cell_type": "markdown",
   "id": "a03d622d-dab0-453d-9b4f-7a48c1c5f1e9",
   "metadata": {},
   "source": [
    "## POI Resurce Usage"
   ]
  },
  {
   "cell_type": "code",
   "execution_count": null,
   "id": "075b1120-1c23-4a4e-afb8-275f13fdf598",
   "metadata": {},
   "outputs": [],
   "source": [
    "pois = pd.read_csv(\"data_process/_RawData/\" + city + \"/POIs.csv\")\n",
    "quantity_of_POIS = len(pois)\n",
    "\n",
    "POI_to_ID = {}\n",
    "ID_to_POI = {}\n",
    "index = 0\n",
    "for poi in list(pois['poiID']):\n",
    "    POI_to_ID[poi] = index\n",
    "    ID_to_POI[index] = poi\n",
    "    index = index + 1"
   ]
  },
  {
   "cell_type": "code",
   "execution_count": null,
   "id": "f43c24b0-9af8-47cf-aef1-46295ada620b",
   "metadata": {},
   "outputs": [],
   "source": [
    "def process_data_for_max_mec_band_usage_per_poi(data):\n",
    "    bandwidth_temporal_usage = np.zeros(shape=(quantity_of_POIS,quantity_of_POIS))\n",
    "    mec_temporal_usage = np.zeros(shape=(quantity_of_POIS,quantity_of_POIS))\n",
    "    bandwidth_temporal_usage[:] = np.nan\n",
    "    mec_temporal_usage[:] = np.nan\n",
    "\n",
    "    for item in data:\n",
    "        #print(item)\n",
    "        t = 0\n",
    "        for poi in data[item]['recommendation']:\n",
    "            poi_index = POI_to_ID[poi]\n",
    "            if(np.isnan(bandwidth_temporal_usage[poi_index][t])):\n",
    "                bandwidth_temporal_usage[poi_index][t] = 0\n",
    "\n",
    "            if(np.isnan(mec_temporal_usage[poi_index][t])):\n",
    "                mec_temporal_usage[poi_index][t] = 0\n",
    "\n",
    "            bandwidth_temporal_usage[poi_index][t] = bandwidth_temporal_usage[poi_index][t] + data[item]['allocated_bandwidth'][t]\n",
    "            mec_temporal_usage[poi_index][t] = mec_temporal_usage[poi_index][t] + data[item]['allocated_mec'][t]\n",
    "            t = t + 1\n",
    "\n",
    "    max_mec_usage_per_poi = []\n",
    "    max_bandwidth_usage_per_poi = []\n",
    "    for item in range(0, quantity_of_POIS):\n",
    "        max_bandwidth_usage_per_poi.append(np.nanmax(bandwidth_temporal_usage[item]))\n",
    "        max_mec_usage_per_poi.append(np.nanmax(mec_temporal_usage[item]))\n",
    "        \n",
    "    return (max_mec_usage_per_poi, max_bandwidth_usage_per_poi)"
   ]
  },
  {
   "cell_type": "code",
   "execution_count": null,
   "id": "008f599e-931d-4b2e-bebe-f1e3680c5ada",
   "metadata": {},
   "outputs": [],
   "source": [
    "def plot_max_mec_band_usage_per_poi(pois, max_mec_usage, max_band_usage, MEC_CAPACITY, POI_BANDWIDTH_CAPACITY, city):\n",
    "\n",
    "    fig = plt.figure(figsize = (12,3.5))\n",
    "\n",
    "    # creating the bar plot\n",
    "    #plt.bar(pois, max_usage, color ='#006666',\n",
    "    #        width = 0.8)\n",
    "    \n",
    "    #plt.fill_between(pois, max_band_usage, color ='#006699', label='Bandwidth usage')\n",
    "    #plt.fill_between(pois, max_mec_usage, color ='#ff9900', label='MEC usage')\n",
    "    \n",
    "    plt.fill_between(pois, max_band_usage, color ='#006699', label='Bandwidth usage (Mbps)')\n",
    "    plt.fill_between(pois, max_mec_usage, color ='#cc0066', label='MEC usage (RCs)')\n",
    "    \n",
    "    plt.plot(pois, max_mec_usage, color ='#FFFFFF', linewidth=2)\n",
    "    \n",
    "    plt.plot([1, len(pois)], [MEC_CAPACITY, MEC_CAPACITY], color='r', linestyle='--', linewidth=4)\n",
    "    plt.plot([1, len(pois)], [POI_BANDWIDTH_CAPACITY, POI_BANDWIDTH_CAPACITY], color='r', linestyle='--', linewidth=4)\n",
    "    \n",
    "    plt.xticks([1, len(pois)/2, len(pois)], [1, \"POI ID (\" + city + \")\", len(pois)], fontsize=28)\n",
    "    #plt.set_xticklabels(, fontsize=20)\n",
    "    #plt.yticks([0, 2, 4, 6, 8, 10, 12, 14, 16, 18, 20])\n",
    "    ticks = list(range(0, POI_BANDWIDTH_CAPACITY+1, int(POI_BANDWIDTH_CAPACITY/5)))\n",
    "    plt.yticks(ticks, fontsize=28)\n",
    "    \n",
    "    #plt.xlabel(\"POI (\" + city + \")\", fontsize=24)\n",
    "    plt.ylabel(\"Total demand\", fontsize=28)\n",
    "    #plt.title(\"Students enrolled in different courses\")\n",
    "    plt.legend(fontsize=28)\n",
    "    plt.grid(axis = 'y')\n",
    "    plt.savefig(\"results/\" + city + \"/plots/\" + str(POI_BANDWIDTH_CAPACITY) + \"_mec_band_usage.pdf\", bbox_inches='tight')\n",
    "    plt.savefig(\"results/\" + city + \"/plots/\" + str(POI_BANDWIDTH_CAPACITY) + \"_mec_band_usage.png\", bbox_inches='tight')\n",
    "    plt.show()"
   ]
  },
  {
   "cell_type": "code",
   "execution_count": null,
   "id": "d2c4b805-fd78-4dbd-b40f-fc7020ead7c2",
   "metadata": {},
   "outputs": [],
   "source": [
    "f = open('results/' + city + '/75_result.json')\n",
    "data = json.load(f)\n",
    "max_mec_usage_per_poi, max_bandwidth_usage_per_poi = process_data_for_max_mec_band_usage_per_poi(data)\n",
    "plot_max_mec_band_usage_per_poi(list(pois['poiID']), max_mec_usage_per_poi, max_bandwidth_usage_per_poi, 37.5, 75, city)"
   ]
  },
  {
   "cell_type": "code",
   "execution_count": null,
   "id": "3e92c733-27ea-44e4-a00d-9edcbed5db93",
   "metadata": {},
   "outputs": [],
   "source": [
    "f = open('results/' + city + '/150_result.json')\n",
    "data = json.load(f)\n",
    "max_mec_usage_per_poi, max_bandwidth_usage_per_poi = process_data_for_max_mec_band_usage_per_poi(data)\n",
    "plot_max_mec_band_usage_per_poi(list(pois['poiID']), max_mec_usage_per_poi, max_bandwidth_usage_per_poi, 37.5, 150, city)"
   ]
  },
  {
   "cell_type": "code",
   "execution_count": null,
   "id": "e20a7fd1-34fa-4b6b-83a1-b90462ad0322",
   "metadata": {},
   "outputs": [],
   "source": [
    "f = open('results/' + city + '/300_result.json')\n",
    "data = json.load(f)\n",
    "max_mec_usage_per_poi, max_bandwidth_usage_per_poi = process_data_for_max_mec_band_usage_per_poi(data)\n",
    "plot_max_mec_band_usage_per_poi(list(pois['poiID']), max_mec_usage_per_poi, max_bandwidth_usage_per_poi, 37.5, 300, city)"
   ]
  },
  {
   "cell_type": "markdown",
   "id": "1b50d13c-4547-48bd-9bb4-29953ebf2b25",
   "metadata": {},
   "source": [
    "## User resource allocation"
   ]
  },
  {
   "cell_type": "code",
   "execution_count": null,
   "id": "84392217-130f-4cc3-91ee-b40230cc21b4",
   "metadata": {
    "scrolled": true,
    "tags": []
   },
   "outputs": [],
   "source": [
    "def process_data_for_plot_diff(data):\n",
    "    diff_of_b_allocation = []\n",
    "    diff_of_m_allocation = []\n",
    "\n",
    "    for item in data:\n",
    "        if(data[item]['demand_bandwidth'][1] != 0):\n",
    "            min_all = round(min(data[item]['allocated_bandwidth']), 6)\n",
    "            min_dem = data[item]['demand_bandwidth'][0]\n",
    "            diff_of_b_allocation.append(min_all - min_dem)\n",
    "\n",
    "        if(data[item]['demand_mec'][1] != 0):\n",
    "            min_all = round(min(data[item]['allocated_mec']), 6)\n",
    "            min_dem = data[item]['demand_mec'][0]\n",
    "            diff_of_m_allocation.append(min_all - min_dem)\n",
    "\n",
    "    diff_of_b_allocation = np.array(diff_of_b_allocation)\n",
    "    diff_of_m_allocation = np.array(diff_of_m_allocation)\n",
    "\n",
    "\n",
    "    non_negative_b_diff = diff_of_b_allocation.copy()\n",
    "    negative_b_diff = diff_of_b_allocation.copy()\n",
    "\n",
    "    non_negative_b_diff[non_negative_b_diff < 0] = np.nan\n",
    "    negative_b_diff[negative_b_diff > 0] = np.nan\n",
    "\n",
    "    non_negative_m_diff = diff_of_m_allocation.copy()\n",
    "    negative_m_diff = diff_of_m_allocation.copy()\n",
    "\n",
    "    non_negative_m_diff[non_negative_m_diff < 0] = np.nan\n",
    "    negative_m_diff[negative_m_diff >= 0] = np.nan\n",
    "    \n",
    "    return (non_negative_b_diff, negative_b_diff, non_negative_m_diff, negative_m_diff)"
   ]
  },
  {
   "cell_type": "code",
   "execution_count": null,
   "id": "c276e3ef-200a-4b4c-9ffe-bbc83677fe63",
   "metadata": {},
   "outputs": [],
   "source": [
    "def plot_diff_band(non_negative_dif, negative_dif, limit_b, scenario):\n",
    "    mpl.rcParams['figure.dpi']= 300\n",
    "    plt.rcParams[\"figure.figsize\"] = [5, 3]\n",
    "    fig, ax = plt.subplots()\n",
    "    xpoints = np.array([i for i in range(1, len(non_negative_dif)+1)])\n",
    "    \n",
    "    ax.set_title(city + ' - ' + scenario + ' overload',  fontsize=18)\n",
    "    #plt.xlabel(\"User ID\", fontsize=20)\n",
    "    plt.ylabel(r'$(b^{t,v}_u - \\lambda_{u}^{min})$', fontsize=20)\n",
    "    \n",
    "    plt.xticks([1, len(non_negative_dif)/2, len(non_negative_dif)], [1, \"User ID\", len(non_negative_dif)], fontsize=18)\n",
    "    plt.yticks(fontsize=18)\n",
    "    \n",
    "    #plt.xlabel.label_coords(1.05, -0.025)\n",
    "    \n",
    "    pos_dif = str(round((np.count_nonzero(~np.isnan(non_negative_dif))/len(non_negative_dif))*100, 0))\n",
    "    neg_dif = str(round((np.count_nonzero(~np.isnan(negative_dif))/len(non_negative_dif))*100, 0))\n",
    "    \n",
    "    plt.plot(xpoints, non_negative_dif, '.', markerfacecolor='none', markeredgewidth=0.5, label='Positive difference ~ ' + pos_dif + '%')\n",
    "    plt.plot(xpoints, negative_dif, '.', markerfacecolor='none', markeredgewidth=0.5, label='Negative difference ~ ' +  neg_dif + '%')\n",
    "    \n",
    "    plt.legend(fontsize=15, handletextpad=-0.5)\n",
    "    \n",
    "    plt.grid(axis = 'y', linestyle='--', linewidth=0.6)\n",
    "    plt.savefig(\"results/\" + city + \"/plots/\" + str(limit_b) + \"_difference_bandwidth.pdf\", bbox_inches='tight')\n",
    "    plt.savefig(\"results/\" + city + \"/plots/\" + str(limit_b) + \"_difference_bandwidth.png\", bbox_inches='tight')\n",
    "    plt.show()"
   ]
  },
  {
   "cell_type": "code",
   "execution_count": null,
   "id": "2c88c032-e9c4-44f8-a1a4-63496aedfd8c",
   "metadata": {},
   "outputs": [],
   "source": [
    "def plot_diff_mec(non_negative_dif, negative_dif):\n",
    "    mpl.rcParams['figure.dpi']= 300\n",
    "    plt.rcParams[\"figure.figsize\"] = [5, 3]\n",
    "    fig, ax = plt.subplots()\n",
    "    xpoints = np.array([i for i in range(1, len(non_negative_dif)+1)])\n",
    "    \n",
    "    ax.set_title(city + ' - MEC allocation', fontsize=18)\n",
    "    #plt.xlabel(\"User ID\", fontsize=20)\n",
    "    plt.ylabel(r'$(m^{t,v}_u - \\psi_{u}^{min})$', fontsize=20)\n",
    "    plt.xticks([1, len(non_negative_dif)/2, len(non_negative_dif)], [1, \"User ID\", len(non_negative_dif)], fontsize=18)\n",
    "    plt.yticks(fontsize=16)\n",
    "    \n",
    "    pos_dif = str(round((np.count_nonzero(~np.isnan(non_negative_dif))/len(non_negative_dif))*100, 0))\n",
    "    neg_dif = str(round((np.count_nonzero(~np.isnan(negative_dif))/len(non_negative_dif))*100, 0))\n",
    "    \n",
    "    plt.plot(xpoints, non_negative_dif, '.', markerfacecolor='none', markeredgewidth=0.5, label='Positive difference ~ ' + pos_dif + '%')\n",
    "    plt.plot(xpoints, negative_dif, '.', markerfacecolor='none', markeredgewidth=0.5, label='Negative difference ~ ' +  neg_dif + '%')\n",
    "    \n",
    "    plt.legend(fontsize=15, handletextpad=-0.5)\n",
    "    \n",
    "    plt.grid(axis = 'y', linestyle='--', linewidth=0.6)\n",
    "    plt.savefig(\"results/\" + city + \"/plots/difference_mec.pdf\", bbox_inches='tight')\n",
    "    plt.savefig(\"results/\" + city + \"/plots/difference_mec.png\", bbox_inches='tight')\n",
    "    plt.show()"
   ]
  },
  {
   "cell_type": "code",
   "execution_count": null,
   "id": "69ec20ef-0556-45bf-ad98-524019e8021e",
   "metadata": {},
   "outputs": [],
   "source": [
    "f = open('results/' + city + '/75_result.json')\n",
    "data = json.load(f)\n",
    "non_negative_b_diff, negative_b_diff, non_negative_m_diff, negative_m_diff = process_data_for_plot_diff(data)\n",
    "plot_diff_mec(non_negative_m_diff, negative_m_diff)"
   ]
  },
  {
   "cell_type": "code",
   "execution_count": null,
   "id": "4331c6f2-e4dd-4361-9c4b-9b67899b6f87",
   "metadata": {},
   "outputs": [],
   "source": [
    "f = open('results/' + city + '/75_result.json')\n",
    "data = json.load(f)\n",
    "non_negative_b_diff, negative_b_diff, non_negative_m_diff, negative_m_diff = process_data_for_plot_diff(data)\n",
    "plot_diff_band(non_negative_b_diff, negative_b_diff, 75, 'High')"
   ]
  },
  {
   "cell_type": "code",
   "execution_count": null,
   "id": "8f809d8b-41aa-4bb7-a53e-370379f6b665",
   "metadata": {},
   "outputs": [],
   "source": [
    "f = open('results/' + city + '/150_result.json')\n",
    "data = json.load(f)\n",
    "non_negative_b_diff, negative_b_diff, non_negative_m_diff, negative_m_diff = process_data_for_plot_diff(data)\n",
    "plot_diff_band(non_negative_b_diff, negative_b_diff, 150, 'Medium')"
   ]
  },
  {
   "cell_type": "code",
   "execution_count": null,
   "id": "4a5cdf1b-0051-41a0-8be2-6142c00e3ebc",
   "metadata": {},
   "outputs": [],
   "source": [
    "f = open('results/' + city + '/300_result.json')\n",
    "data = json.load(f)\n",
    "non_negative_b_diff, negative_b_diff, non_negative_m_diff, negative_m_diff = process_data_for_plot_diff(data)\n",
    "plot_diff_band(non_negative_b_diff, negative_b_diff, 300, 'Low')"
   ]
  },
  {
   "cell_type": "markdown",
   "id": "b346f532-674a-4792-becd-19bef6c72d74",
   "metadata": {},
   "source": [
    "## Solution Time"
   ]
  },
  {
   "cell_type": "code",
   "execution_count": null,
   "id": "178cb5c0-35d9-46af-b3e1-4e23d9d52eba",
   "metadata": {},
   "outputs": [],
   "source": [
    "cities = ['Athens', 'Barcelona', 'Budapest', 'Edinburgh', 'Glasgow', \n",
    "          'London', 'Madrid', 'Melbourne', 'NewDelhi', 'Osaka', 'Perth', 'Toronto', 'Vienna']\n",
    "#cities = ['Athens']"
   ]
  },
  {
   "cell_type": "code",
   "execution_count": null,
   "id": "e9f21fd1-6854-4be5-8d72-21fcae97da04",
   "metadata": {},
   "outputs": [],
   "source": [
    "TOTAL_PROCE_TIME = []\n",
    "TOTAL_CONVO_TIME = []\n",
    "TOTAL_TRAIN_TIME = []\n",
    "TOTAL_RECOM_TIME = []\n",
    "TOTAL_ALLOC_TIME = []"
   ]
  },
  {
   "cell_type": "code",
   "execution_count": null,
   "id": "4cbbeac4-a578-4b53-ac68-391c85ff463d",
   "metadata": {},
   "outputs": [],
   "source": [
    "def read_time_values(city):\n",
    "    file = open(\"results/\" + city + \"/time\", \"r\")\n",
    "    data = file.readlines()\n",
    "\n",
    "    process_t = float(data[0].split('=')[1])\n",
    "    convolution_t = float(data[1].split('=')[1])\n",
    "    train_t = float(data[2].split('=')[1])\n",
    "    recommend_t = float(data[3].split('=')[1])\n",
    "    allocate_t = float(data[4].split('=')[1]) + float(data[5].split('=')[1]) + float(data[6].split('=')[1])\n",
    "    \n",
    "    return process_t, convolution_t, train_t, recommend_t, allocate_t"
   ]
  },
  {
   "cell_type": "code",
   "execution_count": null,
   "id": "f97498ab-84cd-4117-a406-2f5940125a36",
   "metadata": {},
   "outputs": [],
   "source": [
    "for item in cities:\n",
    "    process_t, convolution_t, train_t, recommend_t, allocate_t = read_time_values(item)\n",
    "\n",
    "    TOTAL_PROCE_TIME.append(process_t)\n",
    "    TOTAL_CONVO_TIME.append(convolution_t)\n",
    "    TOTAL_TRAIN_TIME.append(train_t)\n",
    "    TOTAL_RECOM_TIME.append(recommend_t)\n",
    "    TOTAL_ALLOC_TIME.append(allocate_t)\n",
    "    \n",
    "TOTAL_PROCE_TIME = np.array(TOTAL_PROCE_TIME)\n",
    "TOTAL_CONVO_TIME = np.array(TOTAL_CONVO_TIME)\n",
    "TOTAL_TRAIN_TIME = np.array(TOTAL_TRAIN_TIME)\n",
    "TOTAL_RECOM_TIME = np.array(TOTAL_RECOM_TIME)\n",
    "TOTAL_ALLOC_TIME = np.array(TOTAL_ALLOC_TIME)"
   ]
  },
  {
   "cell_type": "code",
   "execution_count": null,
   "id": "560de509-cd67-4c2c-bdd4-a82ad55b7cc7",
   "metadata": {},
   "outputs": [],
   "source": [
    "def plot_time(PROCE_TIME, CONVO_TIME, TRAIN_TIME, RECOM_TIME, ALLOC_TIME, cities):\n",
    "\n",
    "    Total_p_time = PROCE_TIME + CONVO_TIME + TRAIN_TIME + RECOM_TIME  + ALLOC_TIME\n",
    "    Total_c_time = CONVO_TIME + TRAIN_TIME + RECOM_TIME  + ALLOC_TIME\n",
    "    Total_t_time = TRAIN_TIME + RECOM_TIME  + ALLOC_TIME\n",
    "    Total_r_time = RECOM_TIME  + ALLOC_TIME\n",
    "    Total_a_time = ALLOC_TIME\n",
    "    \n",
    "    fig = plt.figure(figsize = (10,3))\n",
    "\n",
    "    plt.bar(cities, Total_p_time, color ='blue', label='Processing time')\n",
    "    plt.bar(cities, Total_c_time, color ='#009999', label='Convolution time')\n",
    "    plt.bar(cities, Total_t_time, color ='crimson', label='RL training time')\n",
    "    plt.bar(cities, Total_r_time, color ='#ff9933', label='Recommendation time')\n",
    "    plt.bar(cities, Total_a_time, color ='#009900', label='Allocation time')\n",
    "    \n",
    "    plt.ylabel(\"Time (s)\", fontsize=20)\n",
    "    \n",
    "    plt.xticks(rotation=26, fontsize=17)\n",
    "    plt.yticks(fontsize=18)\n",
    "    plt.yscale('log')\n",
    "\n",
    "    plt.legend(fontsize=12)\n",
    "    plt.grid(axis = 'y')\n",
    "    plt.savefig(\"results/time.pdf\", bbox_inches='tight')\n",
    "    plt.savefig(\"results/time.png\", bbox_inches='tight')\n",
    "    plt.show()"
   ]
  },
  {
   "cell_type": "code",
   "execution_count": null,
   "id": "fc9ed9b2-025d-4c43-884c-a28856220de3",
   "metadata": {},
   "outputs": [],
   "source": [
    "plot_time(TOTAL_PROCE_TIME, TOTAL_CONVO_TIME, TOTAL_TRAIN_TIME, TOTAL_RECOM_TIME, TOTAL_ALLOC_TIME, cities)"
   ]
  },
  {
   "cell_type": "code",
   "execution_count": null,
   "id": "0dd411fa-fdf2-4bf3-88c6-4f8a1ab1f965",
   "metadata": {},
   "outputs": [],
   "source": []
  }
 ],
 "metadata": {
  "kernelspec": {
   "display_name": "Python 3 (ipykernel)",
   "language": "python",
   "name": "python3"
  },
  "language_info": {
   "codemirror_mode": {
    "name": "ipython",
    "version": 3
   },
   "file_extension": ".py",
   "mimetype": "text/x-python",
   "name": "python",
   "nbconvert_exporter": "python",
   "pygments_lexer": "ipython3",
   "version": "3.8.10"
  }
 },
 "nbformat": 4,
 "nbformat_minor": 5
}
