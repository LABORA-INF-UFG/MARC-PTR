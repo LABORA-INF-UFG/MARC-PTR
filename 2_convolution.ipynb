{
 "cells": [
  {
   "cell_type": "code",
   "execution_count": 1,
   "id": "9f86b6c2-0293-4554-bb7e-95ed54b8dc61",
   "metadata": {},
   "outputs": [],
   "source": [
    "import numpy as np\n",
    "from scipy.linalg import sqrtm \n",
    "from IPython.display import HTML\n",
    "from gcn_code.GCNLayer import GCNLayer\n",
    "from gcn_code.GCNNetwork import GCNNetwork\n",
    "import pickle as pk\n",
    "import time\n",
    "#%matplotlib inline"
   ]
  },
  {
   "cell_type": "code",
   "execution_count": 2,
   "id": "b6e25041-e9e5-447a-9552-628a0b259048",
   "metadata": {},
   "outputs": [],
   "source": [
    "start_time = time.time()"
   ]
  },
  {
   "cell_type": "code",
   "execution_count": 3,
   "id": "9f63adb6-6a4a-4740-b0c9-df18760e6866",
   "metadata": {},
   "outputs": [],
   "source": [
    "city = 'Perth'"
   ]
  },
  {
   "cell_type": "code",
   "execution_count": 4,
   "id": "7345af8f-02d8-411a-ac24-22834a01cba0",
   "metadata": {},
   "outputs": [],
   "source": [
    "file = open('data_process/' + city + '/local', 'rb')\n",
    "local_adj = pk.load(file)\n",
    "file = open('data_process/' + city + '/global', 'rb')\n",
    "global_adj = pk.load(file)"
   ]
  },
  {
   "cell_type": "code",
   "execution_count": 5,
   "id": "4393c75f-b6dd-4c69-8744-19345021fed8",
   "metadata": {},
   "outputs": [
    {
     "data": {
      "text/plain": [
       "(25, 25)"
      ]
     },
     "execution_count": 5,
     "metadata": {},
     "output_type": "execute_result"
    }
   ],
   "source": [
    "global_adj.shape"
   ]
  },
  {
   "cell_type": "code",
   "execution_count": 6,
   "id": "bff3e55c-5bbb-4e62-9f08-8554e0d7e301",
   "metadata": {},
   "outputs": [],
   "source": [
    "def create_A_HAT(A):\n",
    "    A_mod = A + np.eye(A.shape[0]) # add self-connections\n",
    "\n",
    "    D_mod = np.zeros_like(A_mod)\n",
    "    np.fill_diagonal(D_mod, np.asarray(A_mod.sum(axis=1)).flatten())\n",
    "\n",
    "\n",
    "    D_mod_invroot = np.linalg.inv(sqrtm(D_mod))\n",
    "\n",
    "    A_hat = D_mod_invroot @ A_mod @ D_mod_invroot\n",
    "    \n",
    "    return A_hat"
   ]
  },
  {
   "cell_type": "code",
   "execution_count": 7,
   "id": "98763514-dc99-4225-8715-833b60caa864",
   "metadata": {},
   "outputs": [],
   "source": [
    "global_adj = create_A_HAT(global_adj)"
   ]
  },
  {
   "cell_type": "code",
   "execution_count": 8,
   "id": "85bba2aa-3fc3-4175-9b3e-8b71de07ff0c",
   "metadata": {},
   "outputs": [],
   "source": [
    "for item in local_adj:\n",
    "    local_adj[item] = create_A_HAT(local_adj[item])"
   ]
  },
  {
   "cell_type": "code",
   "execution_count": 9,
   "id": "d80678d8-4f5c-4437-a6dd-6be5362bfbe8",
   "metadata": {},
   "outputs": [],
   "source": [
    "gcn_model = GCNNetwork(\n",
    "    n_inputs=global_adj.shape[0], \n",
    "    n_outputs=global_adj.shape[0], \n",
    "    n_layers=3,\n",
    "    hidden_sizes=[global_adj.shape[0], global_adj.shape[0], global_adj.shape[0]], \n",
    "    activation=np.tanh,\n",
    "    seed=100,\n",
    ")\n",
    "global_adj = gcn_model.embedding(global_adj, np.eye(global_adj.shape[0]))"
   ]
  },
  {
   "cell_type": "code",
   "execution_count": 10,
   "id": "861365f0-8584-470f-8b2d-21eadba4697c",
   "metadata": {},
   "outputs": [],
   "source": [
    "for item in local_adj:\n",
    "    gcn_model = GCNNetwork(\n",
    "        n_inputs=local_adj[item].shape[0], \n",
    "        n_outputs=local_adj[item].shape[0], \n",
    "        n_layers=3,\n",
    "        hidden_sizes=[global_adj.shape[0], global_adj.shape[0], global_adj.shape[0]], \n",
    "        activation=np.tanh,\n",
    "        seed=100,\n",
    "    )\n",
    "    local_adj[item] = gcn_model.embedding(local_adj[item], np.eye(local_adj[item].shape[0]))"
   ]
  },
  {
   "cell_type": "code",
   "execution_count": 11,
   "id": "9b8760db-1151-46ed-9ec4-373bd8c7cb5c",
   "metadata": {},
   "outputs": [
    {
     "data": {
      "text/plain": [
       "array([-0.06364016, -0.06219697,  0.06766935, -0.02698081, -0.00958266,\n",
       "       -0.11081271, -0.12703887,  0.02346425, -0.00894898, -0.06813898,\n",
       "        0.06795832, -0.18444018, -0.11382544,  0.21903383,  0.00750152,\n",
       "        0.0147644 ,  0.10598856, -0.1413845 , -0.1235894 ,  0.07163965,\n",
       "       -0.03431186,  0.05316919, -0.07616762,  0.07389047,  0.06832545])"
      ]
     },
     "execution_count": 11,
     "metadata": {},
     "output_type": "execute_result"
    }
   ],
   "source": [
    "np.around(global_adj[0], decimals=10, out=None)"
   ]
  },
  {
   "cell_type": "code",
   "execution_count": 12,
   "id": "97b29dd4-a393-4759-a568-42fd9f79101d",
   "metadata": {},
   "outputs": [],
   "source": [
    "for item in local_adj:\n",
    "    local_adj[item] = local_adj[item] + global_adj"
   ]
  },
  {
   "cell_type": "code",
   "execution_count": 13,
   "id": "87f53eb1-a213-485e-9162-e3b2599dcb9f",
   "metadata": {},
   "outputs": [],
   "source": [
    "with open(\"data_process/\" + city + \"/adjacency\",\"wb\") as file:\n",
    "    pk.dump(local_adj, file)"
   ]
  },
  {
   "cell_type": "code",
   "execution_count": 14,
   "id": "53e80bae-8ba9-47a3-8f63-b55eeab725b6",
   "metadata": {},
   "outputs": [],
   "source": [
    "final_time = time.time()"
   ]
  },
  {
   "cell_type": "code",
   "execution_count": 15,
   "id": "37af3b39-f869-4b66-b303-f6db500d9d79",
   "metadata": {},
   "outputs": [
    {
     "data": {
      "text/plain": [
       "0.21325087547302246"
      ]
     },
     "execution_count": 15,
     "metadata": {},
     "output_type": "execute_result"
    }
   ],
   "source": [
    "final_time - start_time"
   ]
  },
  {
   "cell_type": "code",
   "execution_count": 16,
   "id": "8eff32c4-cb5b-44d5-9ea7-00f9f85edaa0",
   "metadata": {},
   "outputs": [],
   "source": [
    "f = open(\"results/\" + city + \"/time\", \"a\")\n",
    "f.writelines(\"convolution=\" + str(final_time - start_time) + \"\\n\")\n",
    "f.close()"
   ]
  },
  {
   "cell_type": "code",
   "execution_count": null,
   "id": "35de2e67-d8a3-43f8-8d5e-b15ccefedd2e",
   "metadata": {},
   "outputs": [],
   "source": []
  }
 ],
 "metadata": {
  "kernelspec": {
   "display_name": "Python 3 (ipykernel)",
   "language": "python",
   "name": "python3"
  },
  "language_info": {
   "codemirror_mode": {
    "name": "ipython",
    "version": 3
   },
   "file_extension": ".py",
   "mimetype": "text/x-python",
   "name": "python",
   "nbconvert_exporter": "python",
   "pygments_lexer": "ipython3",
   "version": "3.8.10"
  }
 },
 "nbformat": 4,
 "nbformat_minor": 5
}
