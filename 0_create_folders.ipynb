{
 "cells": [
  {
   "cell_type": "code",
   "execution_count": null,
   "id": "990d7a8f-6c20-4cd5-8fff-d193605a869a",
   "metadata": {},
   "outputs": [],
   "source": [
    "import os"
   ]
  },
  {
   "cell_type": "code",
   "execution_count": null,
   "id": "c49c7bc6-9b73-4fea-8606-403d92ff5147",
   "metadata": {
    "tags": []
   },
   "outputs": [],
   "source": [
    "cities = ['Athens', 'Barcelona', 'Budapest', 'Edinburgh', 'Glasgow', 'Perth', \n",
    "          'London', 'Madrid', 'Melbourne', 'NewDelhi', 'Osaka', 'Perth', 'Toronto', 'Vienna']"
   ]
  },
  {
   "cell_type": "code",
   "execution_count": null,
   "id": "9cc0dc64-4b4f-4469-beed-9828c517ded1",
   "metadata": {},
   "outputs": [],
   "source": [
    "os.system('mkdir results')"
   ]
  },
  {
   "cell_type": "code",
   "execution_count": null,
   "id": "a4e8f571-6869-4f79-909c-9293b97e8d56",
   "metadata": {},
   "outputs": [],
   "source": [
    "for item in cities:\n",
    "    os.system('mkdir results/' + item)\n",
    "    os.system('mkdir results/' + item + \"/plots\")\n",
    "    os.system('mkdir data_process/' + item)\n",
    "    "
   ]
  },
  {
   "cell_type": "code",
   "execution_count": null,
   "id": "3b3d46cc-2e95-4d83-ba7c-604fa8f39ec8",
   "metadata": {},
   "outputs": [],
   "source": []
  }
 ],
 "metadata": {
  "kernelspec": {
   "display_name": "Python 3 (ipykernel)",
   "language": "python",
   "name": "python3"
  },
  "language_info": {
   "codemirror_mode": {
    "name": "ipython",
    "version": 3
   },
   "file_extension": ".py",
   "mimetype": "text/x-python",
   "name": "python",
   "nbconvert_exporter": "python",
   "pygments_lexer": "ipython3",
   "version": "3.8.10"
  }
 },
 "nbformat": 4,
 "nbformat_minor": 5
}
